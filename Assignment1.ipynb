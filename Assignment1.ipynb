{
 "cells": [
  {
   "cell_type": "code",
   "execution_count": null,
   "id": "f72a0aa9-6352-4ea9-838e-1e2ede9b55fe",
   "metadata": {},
   "outputs": [],
   "source": [
    "import nltk\n",
    "import numpy\n",
    "import matplotlib\n",
    "\n",
    "from nltk.probability import FreqDist"
   ]
  },
  {
   "cell_type": "markdown",
   "id": "7a99113f-4c63-495f-9a99-ef4c6e8dc8fa",
   "metadata": {},
   "source": [
    "## Load text"
   ]
  },
  {
   "cell_type": "code",
   "execution_count": null,
   "id": "a51635cd-0c78-43be-851e-c6c8856dd374",
   "metadata": {},
   "outputs": [],
   "source": [
    "from nltk.corpus import PlaintextCorpusReader\n",
    "corpus_root = \"/Users/kyana/Desktop/\"\n",
    "subcorpus = PlaintextCorpusReader(corpus_root, '.*')\n",
    "\n",
    "podcast_words = subcorpus.words('podcast.txt')"
   ]
  },
  {
   "cell_type": "markdown",
   "id": "823ccb0a-68c1-4e3a-b94e-0724924b9b58",
   "metadata": {},
   "source": [
    "## 1. The length (in words)."
   ]
  },
  {
   "cell_type": "code",
   "execution_count": null,
   "id": "a37627e0-5b35-4c17-92e0-c3322cdce51f",
   "metadata": {},
   "outputs": [],
   "source": [
    "len(podcast_words)"
   ]
  },
  {
   "cell_type": "markdown",
   "id": "90f66930-edfb-47eb-bd86-163d193fab1f",
   "metadata": {},
   "source": [
    "## 2. The lexical diversity."
   ]
  },
  {
   "cell_type": "code",
   "execution_count": null,
   "id": "a8cf289b-2866-43c5-839c-1770b069cad1",
   "metadata": {},
   "outputs": [],
   "source": [
    "def lexical_diversity(text):\n",
    "    return len(set(text)) / len(text)"
   ]
  },
  {
   "cell_type": "code",
   "execution_count": null,
   "id": "03b5bd46-4f42-4601-a2a3-99ec30cb43f7",
   "metadata": {},
   "outputs": [],
   "source": [
    "lexical_diversity(podcast_words)"
   ]
  },
  {
   "cell_type": "markdown",
   "id": "a9e6a78e-c29b-49b9-807c-4c089db6e776",
   "metadata": {},
   "source": [
    "## 3. Top 10 most frequent words and their counts."
   ]
  },
  {
   "cell_type": "code",
   "execution_count": null,
   "id": "631fc002-edcf-49ef-99ad-0e11ea0659a8",
   "metadata": {},
   "outputs": [],
   "source": [
    "podcast_words_lowerCase = [w.lower() for w in podcast_words if w.isalpha()]\n",
    "\n",
    "podcast_words_unique = set(podcast_words_lowerCase)"
   ]
  },
  {
   "cell_type": "code",
   "execution_count": null,
   "id": "72532445-632b-423e-9b36-daf4b4520300",
   "metadata": {},
   "outputs": [],
   "source": [
    "fdist = FreqDist(podcast_words_lowerCase)"
   ]
  },
  {
   "cell_type": "code",
   "execution_count": null,
   "id": "d1e1fc1d-f8d6-4723-8c00-a76fbc0d81dd",
   "metadata": {},
   "outputs": [],
   "source": [
    "fdist.most_common(10)"
   ]
  },
  {
   "cell_type": "markdown",
   "id": "bf22797c-c33e-4020-ad63-54ff554ae2a4",
   "metadata": {},
   "source": [
    "## 4. Words that are at least 10 characters long and their counts."
   ]
  },
  {
   "cell_type": "code",
   "execution_count": null,
   "id": "c88254d8-59f6-4e04-bfac-c28f365fa8fa",
   "metadata": {},
   "outputs": [],
   "source": [
    "i = 1\n",
    "for word in podcast_words_unique:\n",
    "        if len(word) >= 10:\n",
    "            long_count = podcast_words_lowerCase.count(word)\n",
    "            print(\"Word\" + str(i) + \":\", word + \",\", \"Length:\", str(len(word)) + \",\", \"Count:\", long_count)\n",
    "            i += 1"
   ]
  },
  {
   "cell_type": "markdown",
   "id": "9098f19f-010e-4aa7-bdf0-0ec195140d65",
   "metadata": {},
   "source": [
    "## 5. The longest sentence (type the sentence and give the number of words)."
   ]
  },
  {
   "cell_type": "code",
   "execution_count": null,
   "id": "f5691688-bdc5-46fa-9607-9801735a5245",
   "metadata": {},
   "outputs": [],
   "source": [
    "podcast_sentences = subcorpus.sents('podcast.txt')\n",
    "\n",
    "longest_sent_count = max(len(s) for s in podcast_sentences)\n",
    "\n",
    "longest_sent_count"
   ]
  },
  {
   "cell_type": "code",
   "execution_count": null,
   "id": "d7cf93ed-b2a2-4799-a196-ce2f7e256acf",
   "metadata": {
    "scrolled": true
   },
   "outputs": [],
   "source": [
    "longest_sent = [s for s in podcast_sentences if len(s) == longest_sent_count]"
   ]
  },
  {
   "cell_type": "code",
   "execution_count": null,
   "id": "3e34f68a-cb5c-4b8b-8d84-6addc10cb79a",
   "metadata": {},
   "outputs": [],
   "source": [
    "flattened_longest_sent = [word for sublist in longest_sent for word in sublist]\n",
    "\n",
    "flattened_longest_sent"
   ]
  },
  {
   "cell_type": "code",
   "execution_count": null,
   "id": "d5b7317c-ff64-4b57-b10d-45e25846610d",
   "metadata": {},
   "outputs": [],
   "source": [
    "longest_sent_noPunct = [w for w in flattened_longest_sent if w.isalpha()]\n",
    "\n",
    "len(longest_sent_noPunct)"
   ]
  },
  {
   "cell_type": "code",
   "execution_count": null,
   "id": "d264ec7a-338d-44f5-9d78-4f35c3ef7fb7",
   "metadata": {},
   "outputs": [],
   "source": [
    "longest_sent_noPunct"
   ]
  },
  {
   "cell_type": "markdown",
   "id": "c5a7686c-4c72-41dc-80cd-fb748ca7ad82",
   "metadata": {},
   "source": [
    "## 6. A stemmed version of the longest sentence."
   ]
  },
  {
   "cell_type": "code",
   "execution_count": null,
   "id": "0fc5a971-b9ab-4c67-a4c2-c192c0e5b277",
   "metadata": {},
   "outputs": [],
   "source": [
    "porter = nltk.PorterStemmer()"
   ]
  },
  {
   "cell_type": "code",
   "execution_count": null,
   "id": "38ed80d4-fd9f-4625-b599-b18401399938",
   "metadata": {},
   "outputs": [],
   "source": [
    "stemmed_sentence = [porter.stem(w) for w in flattened_longest_sent]"
   ]
  },
  {
   "cell_type": "code",
   "execution_count": null,
   "id": "16b1ba01-2e49-4695-aec5-64b1a9e81ec2",
   "metadata": {},
   "outputs": [],
   "source": [
    "stemmed_sentence"
   ]
  }
 ],
 "metadata": {
  "kernelspec": {
   "display_name": "Python 3 (ipykernel)",
   "language": "python",
   "name": "python3"
  },
  "language_info": {
   "codemirror_mode": {
    "name": "ipython",
    "version": 3
   },
   "file_extension": ".py",
   "mimetype": "text/x-python",
   "name": "python",
   "nbconvert_exporter": "python",
   "pygments_lexer": "ipython3",
   "version": "3.12.6"
  }
 },
 "nbformat": 4,
 "nbformat_minor": 5
}
